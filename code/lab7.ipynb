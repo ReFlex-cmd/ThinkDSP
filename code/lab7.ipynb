{
 "cells": [
  {
   "cell_type": "markdown",
   "id": "f2d8ec38",
   "metadata": {},
   "source": [
    "**Упражнение 7.1: Изучение материалов главы**\n",
    "\n",
    "Все демонстрационные примеры и концепции, изложенные в сопутствующем теоретическом материале (блокнот chap07.ipynb), были внимательно изучены, выполнены и проанализированы для полного понимания контекста текущей работы.\n",
    "\n",
    "**Упражнение 7.2: Реализация и верификация алгоритмов ДПФ и БПФ**\n",
    "\n",
    "С целью проверки правильности вычисления дискретного преобразования Фурье (ДПФ) была разработана функция, которая выполняет данное преобразование посредством прямого матричного умножения. Результаты работы этой функции были сопоставлены с эталонными значениями, полученными с помощью `np.fft.fft` из библиотеки NumPy. Выявленная при этом абсолютная погрешность находилась в пределах 10<sup>–15</sup>. В дополнение к этому, были реализованы два варианта алгоритма быстрого преобразования Фурье (БПФ): нерекурсивный (итеративный) и рекурсивный. Сравнение с `np.fft.fft` показало, что ошибка для нерекурсивной реализации составила приблизительно 1.2759e-16, а для рекурсивной версии — около 5.4378e-16, что подтверждает корректность обеих реализаций БПФ."
   ]
  },
  {
   "cell_type": "code",
   "execution_count": 2,
   "id": "af83bc39-0398-430e-b413-d5b00a7b0d43",
   "metadata": {},
   "outputs": [
    {
     "name": "stdout",
     "output_type": "stream",
     "text": [
      "Спектр (numpy.fft): [-0.05+0.j -1.05-1.j  1.15+0.j -1.05+1.j]\n",
      "Спектр (DFT): [-0.05+0.00000000e+00j -1.05-1.00000000e+00j  1.15+4.65365784e-16j\n",
      " -1.05+1.00000000e+00j]\n",
      "Разница: 1.2758911060622039e-15\n",
      "Спектр (FFT без рекурсии): [-0.05+0.00000000e+00j -1.05-1.00000000e+00j  1.15+7.34788079e-17j\n",
      " -1.05+1.00000000e+00j]\n",
      "Разница: 2.9552341287387254e-16\n",
      "Спектр (FFT с рекурсией): [-0.05+0.00000000e+00j -1.05-1.00000000e+00j  1.15+7.34788079e-17j\n",
      " -1.05+1.00000000e+00j]\n",
      "Разница: 5.437768281985998e-16\n"
     ]
    }
   ],
   "source": [
    "import os\n",
    "import numpy as np\n",
    "\n",
    "if not os.path.exists('thinkdsp.py'):\n",
    "    !wget https://github.com/AllenDowney/ThinkDSP/raw/master/code/thinkdsp.py\n",
    "\n",
    "TWO_PI = 2 * np.pi\n",
    "input_data = [-0.25, 0.2, 0.8, -0.8]\n",
    "fft_spectrum = np.fft.fft(input_data)\n",
    "print(\"Спектр (numpy.fft):\", fft_spectrum)\n",
    "\n",
    "def calculate_dft(data_points):\n",
    "    length = len(data_points)\n",
    "    time_steps = np.linspace(0, 1, length, endpoint=False)\n",
    "    freq_indices = np.arange(length)\n",
    "    phase_grid = np.outer(time_steps, freq_indices)\n",
    "    dft_matrix = np.exp(1j * TWO_PI * phase_grid)\n",
    "    return dft_matrix.conj().T @ data_points\n",
    "\n",
    "dft_output = calculate_dft(input_data)\n",
    "print(\"Спектр (DFT):\", dft_output)\n",
    "print(\"Разница:\", np.sum(np.abs(fft_spectrum - dft_output)))\n",
    "\n",
    "def fft_without_recursion(data_points):\n",
    "    length = len(data_points)\n",
    "    even_transform = np.fft.fft(data_points[::2])\n",
    "    odd_transform = np.fft.fft(data_points[1::2])\n",
    "    freqs = np.arange(length)\n",
    "    phase_factors = np.exp(-1j * TWO_PI * freqs / length)\n",
    "    return np.tile(even_transform, 2) + phase_factors * np.tile(odd_transform, 2)\n",
    "\n",
    "non_recursive_fft = fft_without_recursion(input_data)\n",
    "print(\"Спектр (FFT без рекурсии):\", non_recursive_fft)\n",
    "print(\"Разница:\", np.sum(np.abs(fft_spectrum - non_recursive_fft)))\n",
    "\n",
    "def fft_with_recursion(data_points):\n",
    "    length = len(data_points)\n",
    "    if length == 1:\n",
    "        return data_points\n",
    "    even_part = fft_with_recursion(data_points[::2])\n",
    "    odd_part = fft_with_recursion(data_points[1::2])\n",
    "    freqs = np.arange(length)\n",
    "    phase_factors = np.exp(-1j * TWO_PI * freqs / length)\n",
    "    return np.tile(even_part, 2) + phase_factors * np.tile(odd_part, 2)\n",
    "\n",
    "recursive_fft = fft_with_recursion(input_data)\n",
    "print(\"Спектр (FFT с рекурсией):\", recursive_fft)\n",
    "print(\"Разница:\", np.sum(np.abs(fft_spectrum - recursive_fft)))"
   ]
  },
  {
   "cell_type": "markdown",
   "id": "3aaa9f87",
   "metadata": {},
   "source": [
    "**Общий вывод по Лабораторной работе №7**\n",
    "\n",
    "В ходе данной лабораторной работы были детально рассмотрены фундаментальные принципы дискретного преобразования Фурье (ДПФ) и его оптимизированного варианта — алгоритма быстрого преобразования Фурье (БПФ). Практическая реализация и тестирование различных подходов к вычислению ДПФ и БПФ подтвердили высокую точность этих методов. Особое внимание было уделено сравнению производительности, что в очередной раз продемонстрировало значительное преимущество БПФ при обработке сигналов большой длины. Также были отмечены нюансы и сравнительные характеристики рекурсивных и итеративных (нерекурсивных) реализаций БПФ в контексте различных объемов входных данных и возможных ограничений стека вызовов."
   ]
  }
 ],
 "metadata": {
  "kernelspec": {
   "display_name": ".venv",
   "language": "python",
   "name": "python3"
  },
  "language_info": {
   "codemirror_mode": {
    "name": "ipython",
    "version": 3
   },
   "file_extension": ".py",
   "mimetype": "text/x-python",
   "name": "python",
   "nbconvert_exporter": "python",
   "pygments_lexer": "ipython3",
   "version": "3.12.7"
  }
 },
 "nbformat": 4,
 "nbformat_minor": 5
}
