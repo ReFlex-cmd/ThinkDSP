{
 "cells": [
  {
   "cell_type": "markdown",
   "id": "756a8021",
   "metadata": {},
   "source": [
    "Упражнение 8.1\n",
    "\n",
    "Все примеры из учебного блокнота chap08.ipynb были успешно выполнены. Было проведено исследование формы и свойств Гауссовых окон при различных значениях параметра стандартного отклонения (std). На рисунках были представлены формы Гауссовых окон для std = 0.5, 5 и 10. Также были построены графики спектров прямоугольного сигнала до и после фильтрации с использованием этих окон. Дополнительно были рассчитаны и проанализированы спектры самих окон с помощью дискретного преобразования Фурье. Установлено, что увеличение значения std приводит к расширению окна во временной области и, как следствие, к сужению его спектра."
   ]
  },
  {
   "cell_type": "code",
   "execution_count": null,
   "id": "df2917b7-a850-4f4b-88ae-28fb8bd02119",
   "metadata": {},
   "outputs": [],
   "source": [
    "import os\n",
    "import numpy as np\n",
    "import matplotlib.pyplot as plt\n",
    "import scipy.signal\n",
    "from thinkdsp import decorate, SquareSignal, Wave, zero_pad\n",
    "\n",
    "if not os.path.exists('thinkdsp.py'):\n",
    "    !wget https://github.com/AllenDowney/ThinkDSP/raw/master/code/thinkdsp.py\n",
    "\n",
    "TWO_PI = 2 * np.pi\n",
    "\n",
    "def generate_rect_filter(length=20):\n",
    "    rect_kernel = np.ones(length)\n",
    "    rect_kernel /= np.sum(rect_kernel)\n",
    "    return rect_kernel\n",
    "\n",
    "def generate_gauss_filter(length=20, deviation=2):\n",
    "    gauss_kernel = scipy.signal.windows.gaussian(M=length, std=deviation)\n",
    "    gauss_kernel /= np.sum(gauss_kernel)\n",
    "    return gauss_kernel\n",
    "\n",
    "def process_filter_and_display(signal_wave, filter_array, filter_name, amp_limit=560):\n",
    "    filtered_data = np.convolve(signal_wave.ys, filter_array, mode='same')\n",
    "    smoothed_wave = Wave(filtered_data, framerate=signal_wave.framerate)\n",
    "    spec_original = signal_wave.make_spectrum()\n",
    "    spec_smoothed = smoothed_wave.make_spectrum()\n",
    "    amp_ratio = spec_smoothed.amps / spec_original.amps\n",
    "    amp_ratio[spec_original.amps < amp_limit] = 0\n",
    "    padded_filter = zero_pad(filter_array, len(signal_wave))\n",
    "    dft_filter = np.fft.rfft(padded_filter)\n",
    "    plt.plot(np.abs(dft_filter), color='0.7', label=f'Фильтр {filter_name}')\n",
    "    plt.plot(amp_ratio, label='Амплитуда')\n",
    "\n",
    "def examine_filters(dev_values=[0.5, 5, 10], window_size=20):\n",
    "    rect_filter = generate_rect_filter(window_size)\n",
    "    square_sig = SquareSignal(freq=440)\n",
    "    wave_data = square_sig.make_wave(duration=1, framerate=44100)\n",
    "    for dev in dev_values:\n",
    "        gauss_filter = generate_gauss_filter(window_size, dev)\n",
    "        plt.plot(rect_filter, label='Прямоугольное')\n",
    "        plt.plot(gauss_filter, label=f'Гауссово (std={dev})')\n",
    "        plt.legend()\n",
    "        plt.show()\n",
    "        process_filter_and_display(wave_data, gauss_filter, f'Гаусса (std={dev})')\n",
    "        decorate(xlabel='Частота (Гц)', ylabel='Амплитуда')\n",
    "        plt.legend()\n",
    "        plt.show()\n",
    "\n",
    "examine_filters()\n"
   ]
  },
  {
   "cell_type": "markdown",
   "id": "da99b461",
   "metadata": {},
   "source": [
    "Упражнение 8.2\n",
    "\n",
    "Было проведено исследование влияния параметра std на свойства преобразования Фурье. Были построены спектры сигналов для различных значений std: 0.1, 1, 3 и 5. Анализ показал, что чем меньше значение std, тем шире становится спектр. Это соответствует принципу неопределённости: сужение временной области окна приводит к расширению его частотной области. Таким образом, выбор значения std позволяет контролировать степень сглаживания сигнала и частотную избирательность фильтра."
   ]
  },
  {
   "cell_type": "code",
   "execution_count": null,
   "id": "5553ce6b",
   "metadata": {},
   "outputs": [],
   "source": [
    "def plot_gauss_profile(dev, size=30):\n",
    "    gauss_profile = scipy.signal.windows.gaussian(M=size, std=dev)\n",
    "    gauss_profile /= np.sum(gauss_profile)\n",
    "    plt.plot(gauss_profile, label=f'std={dev}')\n",
    "    decorate(xlabel='Время (с)', title='Окно Гаусса')\n",
    "    plt.show()\n",
    "    fft_result = np.fft.fft(gauss_profile)\n",
    "    fft_shifted = np.fft.fftshift(fft_result)\n",
    "    freq_points = np.fft.fftshift(np.fft.fftfreq(size))\n",
    "    plt.plot(freq_points, np.abs(fft_shifted), label=f'std={dev}')\n",
    "    decorate(xlabel='Частота', title='ДПФ')\n",
    "    plt.show()\n",
    "    return gauss_profile, fft_shifted\n",
    "\n",
    "def study_profiles(dev_list=[0.1, 1, 3, 5], window_length=30):\n",
    "    for dev in dev_list:\n",
    "        gauss_profile, fft_shifted = plot_gauss_profile(dev, window_length)\n",
    "\n",
    "study_profiles()\n",
    "\n"
   ]
  },
  {
   "cell_type": "markdown",
   "id": "44e6b337",
   "metadata": {},
   "source": [
    "Упражнение 8.3\n",
    "\n",
    "Было выполнено сравнение различных типов окон: Гауссова, Хэмминга и прямоугольного. Также было проанализировано влияние длины окна (M = 10, 20, 50) на результат фильтрации. Были представлены графики сигналов и их спектров после применения фильтров с разными окнами. Установлено, что окно Хэмминга обеспечивает наилучшее подавление боковых лепестков в спектре, что делает его предпочтительным для задач сглаживания и подавления высокочастотных шумов. Гауссово окно демонстрирует хорошую локализацию как во временной, так и в частотной областях, однако требует тщательного подбора параметров.\n"
   ]
  },
  {
   "cell_type": "code",
   "execution_count": null,
   "id": "c38673e4",
   "metadata": {},
   "outputs": [],
   "source": [
    "def investigate_window_types(window_options=['hamming', 'gaussian', 'boxcar'], \n",
    "                           length=30, deviation=2, duration=1.0, rate=44100):\n",
    "    square_sig = SquareSignal(freq=440)\n",
    "    wave_data = square_sig.make_wave(duration=duration, framerate=rate)\n",
    "    plt.figure(figsize=(12, 8))\n",
    "    for window_type in window_options:\n",
    "        if window_type == 'gaussian':\n",
    "            window_data = scipy.signal.windows.gaussian(M=length, std=deviation)\n",
    "        elif window_type == 'hamming':\n",
    "            window_data = np.hamming(length)\n",
    "        elif window_type == 'boxcar':\n",
    "            window_data = np.ones(length)\n",
    "        else:\n",
    "            continue\n",
    "        window_data /= np.sum(window_data)\n",
    "        padded_window = zero_pad(window_data, len(wave_data))\n",
    "        dft_transform = np.fft.rfft(padded_window)\n",
    "        freq_values = np.fft.rfftfreq(len(padded_window), 1/rate)\n",
    "        plt.subplot(2, 1, 1)\n",
    "        plt.plot(window_data, label=f'{window_type} (M={length})')\n",
    "        decorate(title='Оконные функции', xlabel='Отсчеты', ylabel='Амплитуда')\n",
    "        plt.legend()\n",
    "        plt.grid(True)\n",
    "        plt.subplot(2, 1, 2)\n",
    "        plt.plot(freq_values[:len(dft_transform)//2], np.abs(dft_transform[:len(dft_transform)//2]), \n",
    "                 label=f'{window_type}')\n",
    "        decorate(title='ДПФ (линейный масштаб)', xlabel='Частота (Гц)', ylabel='Амплитуда')\n",
    "        plt.legend()\n",
    "        plt.grid(True)\n",
    "    plt.tight_layout()\n",
    "    plt.show()\n",
    "\n",
    "for window_size in [10, 20, 50]:\n",
    "    investigate_window_types(window_options=['hamming', 'gaussian', 'boxcar'], \n",
    "                           length=window_size, deviation=2)"
   ]
  },
  {
   "cell_type": "markdown",
   "id": "474a4943-d2f2-40bd-a7f6-69a8909a5042",
   "metadata": {},
   "source": [
    "Вывод (Лабораторная работа №8):\n",
    "\n",
    "В результате выполнения лабораторной работы были изучены принципы свёртки и частотной фильтрации сигналов. Было проанализировано влияние формы и ширины оконных функций на характеристики фильтра в частотной области. Эксперименты подтвердили, что правильно подобранное окно позволяет эффективно подавлять нежелательные частотные компоненты и управлять спектральными свойствами сигнала. Полученные результаты продемонстрировали важность выбора типа и параметров окна в зависимости от конкретной задачи фильтрации."
   ]
  }
 ],
 "metadata": {
  "kernelspec": {
   "display_name": ".venv",
   "language": "python",
   "name": "python3"
  },
  "language_info": {
   "codemirror_mode": {
    "name": "ipython",
    "version": 3
   },
   "file_extension": ".py",
   "mimetype": "text/x-python",
   "name": "python",
   "nbconvert_exporter": "python",
   "pygments_lexer": "ipython3",
   "version": "3.12.7"
  }
 },
 "nbformat": 4,
 "nbformat_minor": 5
}
