{
 "cells": [
  {
   "cell_type": "markdown",
   "id": "38cd66a5",
   "metadata": {},
   "source": [
    "Упражнение 3.1\n",
    "\n",
    "Было создано окно Кайзера, форма которого была визуализирована. Было отмечено, что по сравнению с окном Хэмминга, окно Кайзера приводит к более выраженному \"размазыванию\" частотных компонент."
   ]
  },
  {
   "cell_type": "code",
   "execution_count": null,
   "id": "4e9c43fd-980b-4038-b4e2-244aed8fff93",
   "metadata": {},
   "outputs": [],
   "source": [
    "import os\n",
    "import numpy as np\n",
    "import matplotlib.pyplot as plt\n",
    "from thinkdsp import SinSignal, Chirp, read_wave, PI2, normalize, unbias\n",
    "\n",
    "if not os.path.exists('thinkdsp.py'):\n",
    "    !wget https://github.com/AllenDowney/ThinkDSP/raw/master/code/thinkdsp.py\n",
    "\n",
    "harmonic_signal = SinSignal(freq=440)\n",
    "time_span = harmonic_signal.period * 30\n",
    "audio_wave = harmonic_signal.make_wave(time_span)\n",
    "audio_wave.plot()\n",
    "plt.xlabel('Время (с)')\n",
    "plt.ylabel('Амплитуда')\n",
    "plt.grid(True)\n",
    "plt.show()\n",
    "\n",
    "freq_content = audio_wave.make_spectrum()\n",
    "freq_content.plot(high=880)\n",
    "plt.xlabel('Частота (Гц)')\n",
    "plt.ylabel('Амплитуда')\n",
    "plt.grid(True)\n",
    "plt.show()\n",
    "\n",
    "time_span = harmonic_signal.period * 30.25\n",
    "audio_wave = harmonic_signal.make_wave(time_span)\n",
    "audio_wave.plot()\n",
    "plt.xlabel('Время (с)')\n",
    "plt.ylabel('Амплитуда')\n",
    "plt.grid(True)\n",
    "plt.show()\n",
    "\n",
    "freq_content = audio_wave.make_spectrum()\n",
    "freq_content.plot(high=880)\n",
    "plt.xlabel('Частота (Гц)')\n",
    "plt.ylabel('Амплитуда')\n",
    "plt.grid(True)\n",
    "plt.show()\n",
    "\n",
    "audio_wave.ys = audio_wave.ys * np.kaiser(len(audio_wave.ys), beta=14)\n",
    "freq_content = audio_wave.make_spectrum()\n",
    "freq_content.plot(high=880)\n",
    "plt.xlabel('Частота (Гц)')\n",
    "plt.ylabel('Амплитуда')\n",
    "plt.grid(True)\n",
    "plt.show()\n",
    "\n",
    "class SawtoothChirp(Chirp):\n",
    "    def evaluate(self, ts):\n",
    "        freqs = np.linspace(self.start, self.end, len(ts) - 1)\n",
    "        dts = np.diff(ts)\n",
    "        dphis = PI2 * freqs * dts\n",
    "        phases = np.cumsum(dphis)\n",
    "        cycles = phases / PI2\n",
    "        frac, _ = np.modf(cycles)\n",
    "        ys = normalize(unbias(frac), self.amp)\n",
    "        return ys\n",
    "\n",
    "chirp_signal = SawtoothChirp(start=200, end=500)\n",
    "chirp_wave = chirp_signal.make_wave(duration=1, framerate=4025)\n",
    "chirp_wave.segment(start=0, duration=0.05).plot()\n",
    "plt.xlabel('Время (с)')\n",
    "plt.ylabel('Амплитуда')\n",
    "plt.grid(True)\n",
    "plt.show()\n",
    "\n",
    "chirp_wave.apodize()\n",
    "chirp_wave.make_audio()"
   ]
  },
  {
   "cell_type": "markdown",
   "id": "767a83ae",
   "metadata": {},
   "source": [
    "Упражнение 3.2\n",
    "\n",
    "Был разработан класс SawtoothChirp, наследующий функциональность класса Chirp, для создания пилообразного чирп-сигнала. Сгенерированный сигнал и его фрагмент были представлены графически. Также был построен эскиз спектрограммы полученного сигнала."
   ]
  },
  {
   "cell_type": "code",
   "execution_count": null,
   "id": "139a481e-39cc-4033-9b09-6655303b10ff",
   "metadata": {},
   "outputs": [],
   "source": [
    "chirp_wave.segment(start=1-0.05, duration=0.05).plot()\n",
    "plt.xlabel('Время (с)')\n",
    "plt.ylabel('Амплитуда')\n",
    "plt.grid(True)\n",
    "plt.show()\n",
    "\n",
    "chirp_spectrogram = chirp_wave.make_spectrogram(256)\n",
    "chirp_spectrogram.plot()\n",
    "plt.xlabel('Время (с)')\n",
    "plt.ylabel('Частота (Гц)')\n",
    "plt.show()\n",
    "\n"
   ]
  },
  {
   "cell_type": "markdown",
   "id": "bd18d5f2",
   "metadata": {},
   "source": [
    "Упражнение 3.3\n",
    "\n",
    "Был сформирован пилообразный чирп-сигнал с изменением частоты в диапазоне от 2500 до 3000 Гц, длительностью 1 секунда и частотой дискретизации 20 000 Гц. Временная диаграмма этого сигнала и его спектр были визуализированы."
   ]
  },
  {
   "cell_type": "code",
   "execution_count": null,
   "id": "075113e4-5c37-4c81-8cd9-36555ed985f3",
   "metadata": {},
   "outputs": [],
   "source": [
    "chirp_signal = SawtoothChirp(start=2500, end=3000)\n",
    "chirp_wave = chirp_signal.make_wave(duration=1, framerate=20000)\n",
    "chirp_wave.segment(start=0.9, duration=0.02).plot()\n",
    "plt.xlabel('Время')\n",
    "plt.ylabel('Амплитуда')\n",
    "plt.grid(True)\n",
    "plt.show()\n",
    "\n",
    "chirp_wave.make_audio()\n",
    "\n",
    "freq_content = chirp_wave.make_spectrum()\n",
    "freq_content.plot()\n",
    "plt.xlabel('Частота (Гц)')\n",
    "plt.ylabel('Амплитуда')\n",
    "plt.grid(True)\n",
    "plt.show()\n",
    "\n"
   ]
  },
  {
   "cell_type": "markdown",
   "id": "489c057f",
   "metadata": {},
   "source": [
    "Упражнение 3.4\n",
    "\n",
    "Был загружен и проанализирован звуковой фрагмент глиссандо из музыкального произведения \"Rhapsody in Blue\" Джорджа Гершвина. Были построены временная диаграмма начального участка сигнала, его спектр и спектрограмма."
   ]
  },
  {
   "cell_type": "code",
   "execution_count": null,
   "id": "ea63ce8f-781b-4275-ae10-4a6d9e0839c3",
   "metadata": {},
   "outputs": [],
   "source": [
    "audio_wave = read_wave('3.1.wav')\n",
    "wave_part = audio_wave.segment(start=2, duration=2.5)\n",
    "wave_part.plot()\n",
    "plt.xlabel('Время (с)')\n",
    "plt.ylabel('Амплитуда')\n",
    "plt.grid(True)\n",
    "plt.show()\n",
    "\n",
    "audio_wave.make_audio()\n",
    "freq_content = wave_part.make_spectrum()\n",
    "freq_content.plot()\n",
    "plt.xlabel('Частота (Гц)')\n",
    "plt.ylabel('Амплитуда')\n",
    "plt.grid(True)\n",
    "plt.show()\n",
    "\n",
    "audio_wave.make_spectrogram(512).plot(high=8000)\n",
    "plt.xlabel('Время (с)')\n",
    "plt.ylabel('Частота (Гц)')\n",
    "plt.show()\n",
    "\n",
    "class TromboneGliss(Chirp):\n",
    "    def evaluate(self, ts):\n",
    "        l1, l2 = 1.0 / self.start, 1.0 / self.end\n",
    "        lengths = np.linspace(l1, l2, len(ts) - 1)\n",
    "        freqs = 1 / lengths\n",
    "        dts = np.diff(ts)\n",
    "        dphis = PI2 * freqs * dts\n",
    "        phases = np.cumsum(dphis)\n",
    "        ys = self.amp * np.cos(phases)\n",
    "        return ys\n",
    "\n",
    "trombone_signal = TromboneGliss(262, 349)\n",
    "first_wave = trombone_signal.make_wave(duration=1)\n",
    "first_wave.apodize()\n",
    "first_wave.make_audio()"
   ]
  },
  {
   "cell_type": "markdown",
   "id": "87fd045b",
   "metadata": {},
   "source": [
    "Упражнение 3.5\n",
    "\n",
    "Был разработан класс TromboneGliss для имитации глиссандо тромбона, изменяющего высоту звука от ноты С3 до F3 и обратно. Сигналы восходящего и нисходящего глиссандо были представлены графически. Также был показан спектр объединённого сигнала и его спектрограмма."
   ]
  },
  {
   "cell_type": "code",
   "execution_count": null,
   "id": "27f61c06-a5f0-44de-ae63-d094d6d64983",
   "metadata": {},
   "outputs": [],
   "source": [
    "first_wave.segment(start=0, duration=0.055).plot()\n",
    "plt.xlabel('Время (с)')\n",
    "plt.ylabel('Амплитуда')\n",
    "plt.grid(True)\n",
    "plt.show()\n",
    "\n",
    "trombone_signal = TromboneGliss(349, 262)\n",
    "second_wave = trombone_signal.make_wave(duration=1)\n",
    "second_wave.apodize()\n",
    "second_wave.make_audio()\n",
    "\n",
    "second_wave.segment(start=0, duration=0.0550).plot()\n",
    "plt.xlabel('Время (с)')\n",
    "plt.ylabel('Амплитуда')\n",
    "plt.grid(True)\n",
    "plt.show()\n",
    "\n",
    "combined_wave = first_wave | second_wave\n",
    "combined_wave.make_audio()\n",
    "\n",
    "combined_wave.make_spectrum().plot(high=500)\n",
    "plt.xlabel('Частота (Гц)')\n",
    "plt.ylabel('Амплитуда')\n",
    "plt.grid(True)\n",
    "plt.show()\n",
    "\n",
    "combined_wave.make_spectrogram(1024).plot(high=600)\n",
    "plt.xlabel('Время (с)')\n",
    "plt.ylabel('Частота (Гц)')\n",
    "plt.show()"
   ]
  },
  {
   "cell_type": "markdown",
   "id": "64405c11-02e7-44ff-aef5-65eece2b261a",
   "metadata": {},
   "source": [
    "Упражнение 3.6\n",
    "\n",
    "Были проанализированы звуки гласных русского алфавита: \"а\", \"э\", \"и\", \"о\", \"у\", \"ы\". Временной фрагмент записанного сигнала и его спектрограмма были визуализированы."
   ]
  },
  {
   "cell_type": "code",
   "execution_count": null,
   "id": "7ec17941-a8c8-4357-9ad0-7ffa38b10085",
   "metadata": {},
   "outputs": [],
   "source": [
    "\n",
    "vowel_wave = read_wave('3.3.wav')\n",
    "vowel_segment = vowel_wave.segment(start=0, duration=12)\n",
    "vowel_segment.plot()\n",
    "plt.xlabel('Время (с)')\n",
    "plt.ylabel('Амплитуда')\n",
    "plt.grid(True)\n",
    "plt.show()\n",
    "\n",
    "vowel_wave.make_audio()\n",
    "\n",
    "vowel_wave.make_spectrogram(2048).plot(high=2000)\n",
    "plt.xlabel('Время (с)')\n",
    "plt.ylabel('Частота (Гц)')\n",
    "plt.show()"
   ]
  },
  {
   "cell_type": "markdown",
   "id": "eed0c484-3674-47ca-87f1-d79e8033c759",
   "metadata": {},
   "source": [
    "Вывод (Лабораторная работа №3):\n",
    "\n",
    "В лабораторной работе исследованы апериодические сигналы, включая чирпы и глиссандо. Построены спектры и спектрограммы, изучены особенности изменения частоты во времени. Реализованы пользовательские классы для генерации нестандартных сигналов. Подтверждено, что апериодичность оказывает существенное влияние на частотные характеристики"
   ]
  }
 ],
 "metadata": {
  "kernelspec": {
   "display_name": "Python 3",
   "language": "python",
   "name": "python3"
  },
  "language_info": {
   "codemirror_mode": {
    "name": "ipython",
    "version": 3
   },
   "file_extension": ".py",
   "mimetype": "text/x-python",
   "name": "python",
   "nbconvert_exporter": "python",
   "pygments_lexer": "ipython3",
   "version": "3.11.9"
  },
  "panel-cell-order": [
   "130ec92e-617f-4d90-bd96-e5a9ccddfb9d",
   "c9c8f4c7-4502-40e9-8de4-9278318ab154",
   "ec813eb6-d142-4b8b-9b12-2197f3416ee5",
   "dbb692c3-5fa6-4bc7-9446-c307f6c65523",
   "655e7de7-3cbe-4507-8942-1f585a850909",
   "699a898b-50ba-467d-8d9c-8079f171fb9f"
  ]
 },
 "nbformat": 4,
 "nbformat_minor": 5
}
